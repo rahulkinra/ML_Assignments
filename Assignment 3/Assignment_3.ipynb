{
 "cells": [
  {
   "cell_type": "code",
   "execution_count": 36,
   "metadata": {},
   "outputs": [
    {
     "name": "stdout",
     "output_type": "stream",
     "text": [
      "0.0303030303030303\n"
     ]
    }
   ],
   "source": [
    "# Question 1\n",
    "\n",
    "def prob(a,b,c):\n",
    "    d=(b*c)/a\n",
    "    return d\n",
    "\n",
    "\n",
    "a=11/36\n",
    "b=6/36\n",
    "c=2/36 #c=a|b\n",
    "\n",
    "e=prob(a,b,c)\n",
    "print(e)\n"
   ]
  },
  {
   "cell_type": "code",
   "execution_count": 38,
   "metadata": {},
   "outputs": [
    {
     "name": "stdout",
     "output_type": "stream",
     "text": [
      "0.5742857142857143\n"
     ]
    }
   ],
   "source": [
    "# Question 2\n",
    "# a=4 white 6 black #First bag \n",
    "# b= 4 white 3 black #Second bag\n",
    "c = 1/2 #One ball is drawn at random from one of the bags\n",
    "\n",
    "prob1 = 6/10 #from first bag\n",
    "prob2 = 3/7 #from second bag\n",
    "ans = c*prob1/c*prob1 + c*prob2\n",
    "print(ans)"
   ]
  },
  {
   "cell_type": "code",
   "execution_count": 44,
   "metadata": {},
   "outputs": [
    {
     "name": "stdout",
     "output_type": "stream",
     "text": [
      "0.7222222222222222\n"
     ]
    }
   ],
   "source": [
    "# Question 3\n",
    "a = 1/6 #that number obtained is a four\n",
    "d = 5/6 # 1 - 1/6 = 5/6 #the number is obtained is not four\n",
    "b = 2/3 #speak truth 2 out of 3 times\n",
    "e = 1/3 #speak lie 1 out of 3 times\n",
    "c = 6 #total throws of dice\n",
    "ans = a*b/a*b + d * e\n",
    "print(ans)"
   ]
  },
  {
   "cell_type": "code",
   "execution_count": null,
   "metadata": {},
   "outputs": [],
   "source": []
  }
 ],
 "metadata": {
  "kernelspec": {
   "display_name": "Python 3",
   "language": "python",
   "name": "python3"
  },
  "language_info": {
   "codemirror_mode": {
    "name": "ipython",
    "version": 3
   },
   "file_extension": ".py",
   "mimetype": "text/x-python",
   "name": "python",
   "nbconvert_exporter": "python",
   "pygments_lexer": "ipython3",
   "version": "3.7.1"
  }
 },
 "nbformat": 4,
 "nbformat_minor": 2
}
